{
 "cells": [
  {
   "cell_type": "markdown",
   "id": "2536e196",
   "metadata": {},
   "source": [
    "# esto es una prueba"
   ]
  },
  {
   "cell_type": "code",
   "execution_count": 1,
   "id": "b67790f0",
   "metadata": {},
   "outputs": [
    {
     "name": "stdout",
     "output_type": "stream",
     "text": [
      "hola mundo\n"
     ]
    }
   ],
   "source": [
    "print (\"hola mundo\")"
   ]
  },
  {
   "cell_type": "code",
   "execution_count": 2,
   "id": "2e793aaa",
   "metadata": {},
   "outputs": [
    {
     "name": "stdout",
     "output_type": "stream",
     "text": [
      "print es una instruccion que muestra texto por pantalla\n"
     ]
    }
   ],
   "source": [
    " print(\"print es una instruccion que muestra texto por pantalla\")"
   ]
  },
  {
   "cell_type": "code",
   "execution_count": null,
   "id": "c51039d2",
   "metadata": {},
   "outputs": [],
   "source": []
  }
 ],
 "metadata": {
  "kernelspec": {
   "display_name": "Python 3 (ipykernel)",
   "language": "python",
   "name": "python3"
  },
  "language_info": {
   "codemirror_mode": {
    "name": "ipython",
    "version": 3
   },
   "file_extension": ".py",
   "mimetype": "text/x-python",
   "name": "python",
   "nbconvert_exporter": "python",
   "pygments_lexer": "ipython3",
   "version": "3.10.5"
  }
 },
 "nbformat": 4,
 "nbformat_minor": 5
}
