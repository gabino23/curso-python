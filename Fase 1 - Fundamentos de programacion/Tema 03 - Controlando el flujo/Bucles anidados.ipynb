{
 "cells": [
  {
   "cell_type": "code",
   "execution_count": 1,
   "id": "f7bea73b",
   "metadata": {},
   "outputs": [],
   "source": [
    "lista=[\"hola\",10,\"adios\",[50,100,150]]"
   ]
  },
  {
   "cell_type": "code",
   "execution_count": 2,
   "id": "326cf64b",
   "metadata": {},
   "outputs": [
    {
     "data": {
      "text/plain": [
       "[50, 100, 150]"
      ]
     },
     "execution_count": 2,
     "metadata": {},
     "output_type": "execute_result"
    }
   ],
   "source": [
    "lista[-1]"
   ]
  },
  {
   "cell_type": "code",
   "execution_count": 3,
   "id": "9268eb81",
   "metadata": {},
   "outputs": [
    {
     "data": {
      "text/plain": [
       "50"
      ]
     },
     "execution_count": 3,
     "metadata": {},
     "output_type": "execute_result"
    }
   ],
   "source": [
    "lista[-1][0]"
   ]
  },
  {
   "cell_type": "code",
   "execution_count": 4,
   "id": "2347b443",
   "metadata": {},
   "outputs": [
    {
     "name": "stdout",
     "output_type": "stream",
     "text": [
      "50\n",
      "100\n",
      "150\n"
     ]
    }
   ],
   "source": [
    "for numero in lista[-1]:\n",
    "    print(numero)"
   ]
  },
  {
   "cell_type": "code",
   "execution_count": 6,
   "id": "294b01a9",
   "metadata": {},
   "outputs": [],
   "source": [
    "lista = [\n",
    "    \"esto es un texto\",#cadena de texto\n",
    "    (1,5,10,15,20,25),# tupla\n",
    "    [\"azul\",\"verde\",\"amarillo\"]#lista\n",
    "]"
   ]
  },
  {
   "cell_type": "code",
   "execution_count": 7,
   "id": "9bd4e590",
   "metadata": {},
   "outputs": [
    {
     "name": "stdout",
     "output_type": "stream",
     "text": [
      "esto es un texto\n",
      "(1, 5, 10, 15, 20, 25)\n",
      "['azul', 'verde', 'amarillo']\n"
     ]
    }
   ],
   "source": [
    "for coleccion in lista:\n",
    "    print(coleccion)"
   ]
  },
  {
   "cell_type": "code",
   "execution_count": 9,
   "id": "e6338611",
   "metadata": {},
   "outputs": [
    {
     "name": "stdout",
     "output_type": "stream",
     "text": [
      "esto es un texto -> e\n",
      "esto es un texto -> s\n",
      "esto es un texto -> t\n",
      "esto es un texto -> o\n",
      "esto es un texto ->  \n",
      "esto es un texto -> e\n",
      "esto es un texto -> s\n",
      "esto es un texto ->  \n",
      "esto es un texto -> u\n",
      "esto es un texto -> n\n",
      "esto es un texto ->  \n",
      "esto es un texto -> t\n",
      "esto es un texto -> e\n",
      "esto es un texto -> x\n",
      "esto es un texto -> t\n",
      "esto es un texto -> o\n",
      "(1, 5, 10, 15, 20, 25) -> 1\n",
      "(1, 5, 10, 15, 20, 25) -> 5\n",
      "(1, 5, 10, 15, 20, 25) -> 10\n",
      "(1, 5, 10, 15, 20, 25) -> 15\n",
      "(1, 5, 10, 15, 20, 25) -> 20\n",
      "(1, 5, 10, 15, 20, 25) -> 25\n",
      "['azul', 'verde', 'amarillo'] -> azul\n",
      "['azul', 'verde', 'amarillo'] -> verde\n",
      "['azul', 'verde', 'amarillo'] -> amarillo\n"
     ]
    }
   ],
   "source": [
    "for coleccion in lista:\n",
    "    for elemento in coleccion:\n",
    "        print(coleccion,\"->\",elemento)"
   ]
  },
  {
   "cell_type": "code",
   "execution_count": 11,
   "id": "64cdc930",
   "metadata": {},
   "outputs": [
    {
     "name": "stdout",
     "output_type": "stream",
     "text": [
      "esto es un texto -> e\n",
      "esto es un texto -> s\n",
      "esto es un texto -> t\n",
      "esto es un texto -> o\n",
      "esto es un texto ->  \n",
      "esto es un texto -> e\n",
      "esto es un texto -> s\n",
      "esto es un texto ->  \n",
      "esto es un texto -> u\n",
      "esto es un texto -> n\n",
      "esto es un texto ->  \n",
      "esto es un texto -> t\n",
      "esto es un texto -> e\n",
      "esto es un texto -> x\n",
      "esto es un texto -> t\n",
      "esto es un texto -> o\n",
      "(1, 5, 10, 15, 20, 25) -> 1\n",
      "(1, 5, 10, 15, 20, 25) -> 5\n",
      "(1, 5, 10, 15, 20, 25) -> 10\n",
      "(1, 5, 10, 15, 20, 25) -> 15\n",
      "(1, 5, 10, 15, 20, 25) -> 20\n",
      "(1, 5, 10, 15, 20, 25) -> 25\n",
      "['azul', 'verde', 'amarillo'] -> azul\n",
      "['azul', 'verde', 'amarillo'] -> verde\n",
      "['azul', 'verde', 'amarillo'] -> amarillo\n"
     ]
    }
   ],
   "source": [
    "for indice_coleccion,coleccion in enumerate(lista):\n",
    "    for indice_elemento,elemento in enumerate(coleccion):\n",
    "        print(coleccion,\"->\",elemento)"
   ]
  },
  {
   "cell_type": "code",
   "execution_count": 12,
   "id": "a521f033",
   "metadata": {},
   "outputs": [
    {
     "name": "stdout",
     "output_type": "stream",
     "text": [
      "e\n",
      "s\n",
      "t\n",
      "o\n",
      " \n",
      "e\n",
      "s\n",
      " \n",
      "u\n",
      "n\n",
      " \n",
      "t\n",
      "e\n",
      "x\n",
      "t\n",
      "o\n",
      "1\n",
      "5\n",
      "10\n",
      "15\n",
      "20\n",
      "25\n",
      "azul\n",
      "verde\n",
      "amarillo\n"
     ]
    }
   ],
   "source": [
    "for indice_coleccion,coleccion in enumerate(lista):\n",
    "    for indice_elemento,elemento in enumerate(coleccion):\n",
    "        print(lista[indice_coleccion][indice_elemento])"
   ]
  },
  {
   "cell_type": "code",
   "execution_count": 14,
   "id": "275a1b89",
   "metadata": {},
   "outputs": [
    {
     "name": "stdout",
     "output_type": "stream",
     "text": [
      "[0, 0, 0]\n",
      "[1, 1, 1]\n",
      "[2, 2, 2]\n"
     ]
    }
   ],
   "source": [
    "tabla=[\n",
    "    [0,0,0],\n",
    "    [1,1,1],\n",
    "    [2,2,2]\n",
    "]\n",
    "for fila in tabla:\n",
    "    print(fila)"
   ]
  },
  {
   "cell_type": "code",
   "execution_count": 17,
   "id": "054c0960",
   "metadata": {},
   "outputs": [
    {
     "name": "stdout",
     "output_type": "stream",
     "text": [
      "0 0 0 \n",
      "1 1 1 \n",
      "2 2 2 \n"
     ]
    }
   ],
   "source": [
    "tabla=[\n",
    "    [0,0,0],\n",
    "    [1,1,1],\n",
    "    [2,2,2]\n",
    "]\n",
    "for fila in tabla:\n",
    "    for columna in fila:\n",
    "        print(columna,end=\" \")\n",
    "    print()"
   ]
  },
  {
   "cell_type": "code",
   "execution_count": 18,
   "id": "dfa43c3b",
   "metadata": {},
   "outputs": [
    {
     "name": "stdout",
     "output_type": "stream",
     "text": [
      "0 0 0 \n",
      "1 1 1 \n",
      "2 2 2 \n"
     ]
    }
   ],
   "source": [
    "tabla=[\n",
    "    [0,0,0],\n",
    "    [1,1,1],\n",
    "    [2,2,2]\n",
    "]\n",
    "for i,fila in enumerate(tabla):\n",
    "    for j,columna in enumerate(fila):\n",
    "        print(tabla[i][j],end=\" \")\n",
    "    print()"
   ]
  },
  {
   "cell_type": "code",
   "execution_count": 19,
   "id": "79925e84",
   "metadata": {},
   "outputs": [
    {
     "name": "stdout",
     "output_type": "stream",
     "text": [
      "0\n"
     ]
    }
   ],
   "source": [
    "tabla=[\n",
    "    [0,0,0],\n",
    "    [1,1,1],\n",
    "    [2,2,2]\n",
    "]\n",
    "cubo=[\n",
    "    tabla,tabla,tabla\n",
    "]\n",
    "print(cubo[0][0][0])"
   ]
  },
  {
   "cell_type": "code",
   "execution_count": 20,
   "id": "53d52b9f",
   "metadata": {},
   "outputs": [
    {
     "name": "stdout",
     "output_type": "stream",
     "text": [
      "0\n",
      "0\n",
      "0\n",
      "1\n",
      "1\n",
      "1\n",
      "2\n",
      "2\n",
      "2\n",
      "0\n",
      "0\n",
      "0\n",
      "1\n",
      "1\n",
      "1\n",
      "2\n",
      "2\n",
      "2\n",
      "0\n",
      "0\n",
      "0\n",
      "1\n",
      "1\n",
      "1\n",
      "2\n",
      "2\n",
      "2\n"
     ]
    }
   ],
   "source": [
    "for tabla in cubo:\n",
    "    for fila in tabla:\n",
    "        for columna in fila:\n",
    "            print(columna)"
   ]
  },
  {
   "cell_type": "code",
   "execution_count": 22,
   "id": "eef48fa0",
   "metadata": {},
   "outputs": [
    {
     "name": "stdout",
     "output_type": "stream",
     "text": [
      "0 0 0 \n",
      "1 1 1 \n",
      "2 2 2 \n",
      "\n",
      "0 0 0 \n",
      "1 1 1 \n",
      "2 2 2 \n",
      "\n",
      "0 0 0 \n",
      "1 1 1 \n",
      "2 2 2 \n",
      "\n"
     ]
    }
   ],
   "source": [
    "for k,tabla in enumerate(cubo):\n",
    "    for i,fila in enumerate(tabla):\n",
    "        for j,columna in enumerate(fila):\n",
    "            print(cubo[k][i][j],end=\" \")\n",
    "        print()\n",
    "    print()"
   ]
  },
  {
   "cell_type": "code",
   "execution_count": null,
   "id": "21f6320b",
   "metadata": {},
   "outputs": [],
   "source": []
  }
 ],
 "metadata": {
  "kernelspec": {
   "display_name": "Python 3 (ipykernel)",
   "language": "python",
   "name": "python3"
  },
  "language_info": {
   "codemirror_mode": {
    "name": "ipython",
    "version": 3
   },
   "file_extension": ".py",
   "mimetype": "text/x-python",
   "name": "python",
   "nbconvert_exporter": "python",
   "pygments_lexer": "ipython3",
   "version": "3.10.5"
  }
 },
 "nbformat": 4,
 "nbformat_minor": 5
}
