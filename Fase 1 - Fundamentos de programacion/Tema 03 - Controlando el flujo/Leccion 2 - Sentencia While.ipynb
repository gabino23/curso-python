{
 "cells": [
  {
   "cell_type": "code",
   "execution_count": 2,
   "metadata": {},
   "outputs": [
    {
     "name": "stdout",
     "output_type": "stream",
     "text": [
      "c vale 1\n",
      "c vale 2\n",
      "c vale 3\n",
      "c vale 4\n",
      "c vale 5\n",
      "c vale 6\n"
     ]
    }
   ],
   "source": [
    "c=0\n",
    "while c<=5:\n",
    "    c+=1\n",
    "    print(\"c vale\",c)"
   ]
  },
  {
   "cell_type": "code",
   "execution_count": 4,
   "metadata": {},
   "outputs": [
    {
     "name": "stdout",
     "output_type": "stream",
     "text": [
      "c vale 1\n",
      "c vale 2\n",
      "c vale 3\n",
      "c vale 4\n",
      "c vale 5\n",
      "c vale 6\n",
      "se ha completado toda la iteracion y se vale 6\n"
     ]
    }
   ],
   "source": [
    "c=0\n",
    "while c<=5:\n",
    "    c+=1\n",
    "    print(\"c vale\",c)\n",
    "else:\n",
    "    print(\"se ha completado toda la iteracion y se vale\",c)"
   ]
  },
  {
   "cell_type": "code",
   "execution_count": 6,
   "metadata": {},
   "outputs": [
    {
     "name": "stdout",
     "output_type": "stream",
     "text": [
      "c vale 1\n",
      "c vale 2\n",
      "c vale 3\n",
      "rompemos el bucle cuando c vale 4\n"
     ]
    }
   ],
   "source": [
    "c=0\n",
    "while c<=5:\n",
    "    c+=1\n",
    "    if (c==4):\n",
    "        print(\"rompemos el bucle cuando c vale\",c)\n",
    "        break\n",
    "    print(\"c vale\",c)\n",
    "else:\n",
    "    print(\"se ha completado toda la iteracion y se vale\",c)"
   ]
  },
  {
   "cell_type": "code",
   "execution_count": 7,
   "metadata": {},
   "outputs": [
    {
     "name": "stdout",
     "output_type": "stream",
     "text": [
      "c vale 1\n",
      "c vale 2\n",
      "c vale 3\n",
      "continuamos con la siguente iteracion 4\n",
      "c vale 5\n",
      "c vale 6\n",
      "se ha completado toda la iteracion y se vale 6\n"
     ]
    }
   ],
   "source": [
    "c=0\n",
    "while c<=5:\n",
    "    c+=1\n",
    "    if (c==4):\n",
    "        print(\"continuamos con la siguente iteracion\",c)\n",
    "        continue\n",
    "    print(\"c vale\",c)\n",
    "else:\n",
    "    print(\"se ha completado toda la iteracion y se vale\",c)"
   ]
  },
  {
   "cell_type": "code",
   "execution_count": 11,
   "metadata": {},
   "outputs": [
    {
     "name": "stdout",
     "output_type": "stream",
     "text": [
      "bienvenido al menu interactivo\n",
      "\"\"Que quieres hacer? Escribe una opcion\n",
      "    1) Saludar\n",
      "    2) Sumar dos numeros\n",
      "    3) Salir\n",
      "1\n",
      "Hola, espero que lo estes pasando bien\n",
      "\"\"Que quieres hacer? Escribe una opcion\n",
      "    1) Saludar\n",
      "    2) Sumar dos numeros\n",
      "    3) Salir\n",
      "2\n",
      "introduce el primer nuemero: 20\n",
      "introduce el segundo nuemero: 60\n",
      "el resultado es igual al: 80.0\n",
      "\"\"Que quieres hacer? Escribe una opcion\n",
      "    1) Saludar\n",
      "    2) Sumar dos numeros\n",
      "    3) Salir\n",
      "3\n",
      "hasta luego, ha sido un placer ayudarte\n"
     ]
    }
   ],
   "source": [
    "print(\"bienvenido al menu interactivo\")\n",
    "while(True):\n",
    "    print(\"\"\"\"\"Que quieres hacer? Escribe una opcion\n",
    "    1) Saludar\n",
    "    2) Sumar dos numeros\n",
    "    3) Salir\"\"\")\n",
    "    opcion= input()\n",
    "    if opcion ==\"1\":\n",
    "          print(\"Hola, espero que lo estes pasando bien\")\n",
    "    elif opcion ==\"2\":\n",
    "          n1= float(input(\"introduce el primer nuemero: \"))\n",
    "          n2= float(input(\"introduce el segundo nuemero: \"))\n",
    "          print(\"el resultado es igual al:\",n1+n2)\n",
    "    elif opcion ==\"3\":\n",
    "          print(\"hasta luego, ha sido un placer ayudarte\")\n",
    "          break\n",
    "    else:\n",
    "          print(\"comando desconocido,vuelve a intentarlo\")\n",
    "          "
   ]
  },
  {
   "cell_type": "code",
   "execution_count": 13,
   "metadata": {},
   "outputs": [
    {
     "name": "stdout",
     "output_type": "stream",
     "text": [
      "hola\n",
      "4\n",
      "adios\n",
      "[1, 2, 3, 4]\n"
     ]
    }
   ],
   "source": [
    "elementos=[\"hola\",4,\"adios\",[1,2,3,4]]\n",
    "for e in elementos:\n",
    "    print(e)"
   ]
  },
  {
   "cell_type": "code",
   "execution_count": 14,
   "metadata": {},
   "outputs": [
    {
     "name": "stdout",
     "output_type": "stream",
     "text": [
      "0 hola\n",
      "1 4\n",
      "2 adios\n",
      "3 [1, 2, 3, 4]\n"
     ]
    }
   ],
   "source": [
    "for i , e in enumerate(elementos):\n",
    "    print(i,e)"
   ]
  },
  {
   "cell_type": "code",
   "execution_count": 16,
   "metadata": {},
   "outputs": [],
   "source": [
    "a,b,c=10,50,100"
   ]
  },
  {
   "cell_type": "code",
   "execution_count": 18,
   "metadata": {},
   "outputs": [
    {
     "name": "stdout",
     "output_type": "stream",
     "text": [
      "10 50 100\n"
     ]
    }
   ],
   "source": [
    "print(a,b,c)"
   ]
  },
  {
   "cell_type": "code",
   "execution_count": 19,
   "metadata": {},
   "outputs": [],
   "source": [
    "def funcion ():\n",
    "    return (10,50,100)\n",
    "\n",
    "\n",
    "a,b,c = funcion()"
   ]
  },
  {
   "cell_type": "code",
   "execution_count": 20,
   "metadata": {},
   "outputs": [
    {
     "data": {
      "text/plain": [
       "(10, 50, 100)"
      ]
     },
     "execution_count": 20,
     "metadata": {},
     "output_type": "execute_result"
    }
   ],
   "source": [
    "a,b,c"
   ]
  },
  {
   "cell_type": "code",
   "execution_count": 22,
   "metadata": {},
   "outputs": [
    {
     "data": {
      "text/plain": [
       "[(0, 'hola'), (1, 4), (2, 'adios'), (3, [1, 2, 3, 4])]"
      ]
     },
     "execution_count": 22,
     "metadata": {},
     "output_type": "execute_result"
    }
   ],
   "source": [
    "list(enumerate ( elementos))"
   ]
  },
  {
   "cell_type": "code",
   "execution_count": 23,
   "metadata": {},
   "outputs": [
    {
     "name": "stdout",
     "output_type": "stream",
     "text": [
      "(0, 'hola')\n",
      "(1, 4)\n",
      "(2, 'adios')\n",
      "(3, [1, 2, 3, 4])\n"
     ]
    }
   ],
   "source": [
    "for tupla in enumerate(elementos):\n",
    "    print(tupla)"
   ]
  },
  {
   "cell_type": "code",
   "execution_count": 24,
   "metadata": {},
   "outputs": [
    {
     "name": "stdout",
     "output_type": "stream",
     "text": [
      "0 hola\n",
      "1 4\n",
      "2 adios\n",
      "3 [1, 2, 3, 4]\n"
     ]
    }
   ],
   "source": [
    "for indice,valor in enumerate(elementos):\n",
    "    print(indice,valor)"
   ]
  },
  {
   "cell_type": "code",
   "execution_count": null,
   "metadata": {},
   "outputs": [],
   "source": []
  }
 ],
 "metadata": {
  "kernelspec": {
   "display_name": "Python 3 (ipykernel)",
   "language": "python",
   "name": "python3"
  },
  "language_info": {
   "codemirror_mode": {
    "name": "ipython",
    "version": 3
   },
   "file_extension": ".py",
   "mimetype": "text/x-python",
   "name": "python",
   "nbconvert_exporter": "python",
   "pygments_lexer": "ipython3",
   "version": "3.10.5"
  }
 },
 "nbformat": 4,
 "nbformat_minor": 1
}
